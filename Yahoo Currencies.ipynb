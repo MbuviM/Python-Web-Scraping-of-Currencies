{
 "cells": [
  {
   "cell_type": "code",
   "execution_count": 3,
   "outputs": [],
   "source": [
    "import pandas as pd\n",
    "from bs4 import BeautifulSoup\n",
    "import requests"
   ],
   "metadata": {
    "collapsed": false,
    "pycharm": {
     "name": "#%%\n"
    }
   }
  },
  {
   "cell_type": "code",
   "execution_count": 4,
   "outputs": [],
   "source": [
    "# Using requests to download the web page and extract the text\n",
    "url = \"https://finance.yahoo.com/currencies\"\n",
    "my_url = requests.get(url).text"
   ],
   "metadata": {
    "collapsed": false,
    "pycharm": {
     "name": "#%%\n"
    }
   }
  },
  {
   "cell_type": "code",
   "execution_count": 6,
   "outputs": [],
   "source": [
    "#Parsing the text into html using BeautifulSoup\n",
    "soup = BeautifulSoup(my_url, 'html5lib')"
   ],
   "metadata": {
    "collapsed": false,
    "pycharm": {
     "name": "#%%\n"
    }
   }
  },
  {
   "cell_type": "code",
   "execution_count": 7,
   "outputs": [
    {
     "name": "stderr",
     "output_type": "stream",
     "text": [
      "C:\\Users\\My Computer\\AppData\\Local\\Temp\\ipykernel_1904\\1048989570.py:13: FutureWarning: The frame.append method is deprecated and will be removed from pandas in a future version. Use pandas.concat instead.\n",
      "  currencies_data = currencies_data.append({\"Symbol\" : Symbol, \"Name\" : Name, \"Last_price\" : Last_price, \"Change\" : Change, \"% Change\" : Percentage_Change} , ignore_index = True)\n",
      "C:\\Users\\My Computer\\AppData\\Local\\Temp\\ipykernel_1904\\1048989570.py:13: FutureWarning: The frame.append method is deprecated and will be removed from pandas in a future version. Use pandas.concat instead.\n",
      "  currencies_data = currencies_data.append({\"Symbol\" : Symbol, \"Name\" : Name, \"Last_price\" : Last_price, \"Change\" : Change, \"% Change\" : Percentage_Change} , ignore_index = True)\n",
      "C:\\Users\\My Computer\\AppData\\Local\\Temp\\ipykernel_1904\\1048989570.py:13: FutureWarning: The frame.append method is deprecated and will be removed from pandas in a future version. Use pandas.concat instead.\n",
      "  currencies_data = currencies_data.append({\"Symbol\" : Symbol, \"Name\" : Name, \"Last_price\" : Last_price, \"Change\" : Change, \"% Change\" : Percentage_Change} , ignore_index = True)\n",
      "C:\\Users\\My Computer\\AppData\\Local\\Temp\\ipykernel_1904\\1048989570.py:13: FutureWarning: The frame.append method is deprecated and will be removed from pandas in a future version. Use pandas.concat instead.\n",
      "  currencies_data = currencies_data.append({\"Symbol\" : Symbol, \"Name\" : Name, \"Last_price\" : Last_price, \"Change\" : Change, \"% Change\" : Percentage_Change} , ignore_index = True)\n",
      "C:\\Users\\My Computer\\AppData\\Local\\Temp\\ipykernel_1904\\1048989570.py:13: FutureWarning: The frame.append method is deprecated and will be removed from pandas in a future version. Use pandas.concat instead.\n",
      "  currencies_data = currencies_data.append({\"Symbol\" : Symbol, \"Name\" : Name, \"Last_price\" : Last_price, \"Change\" : Change, \"% Change\" : Percentage_Change} , ignore_index = True)\n",
      "C:\\Users\\My Computer\\AppData\\Local\\Temp\\ipykernel_1904\\1048989570.py:13: FutureWarning: The frame.append method is deprecated and will be removed from pandas in a future version. Use pandas.concat instead.\n",
      "  currencies_data = currencies_data.append({\"Symbol\" : Symbol, \"Name\" : Name, \"Last_price\" : Last_price, \"Change\" : Change, \"% Change\" : Percentage_Change} , ignore_index = True)\n",
      "C:\\Users\\My Computer\\AppData\\Local\\Temp\\ipykernel_1904\\1048989570.py:13: FutureWarning: The frame.append method is deprecated and will be removed from pandas in a future version. Use pandas.concat instead.\n",
      "  currencies_data = currencies_data.append({\"Symbol\" : Symbol, \"Name\" : Name, \"Last_price\" : Last_price, \"Change\" : Change, \"% Change\" : Percentage_Change} , ignore_index = True)\n",
      "C:\\Users\\My Computer\\AppData\\Local\\Temp\\ipykernel_1904\\1048989570.py:13: FutureWarning: The frame.append method is deprecated and will be removed from pandas in a future version. Use pandas.concat instead.\n",
      "  currencies_data = currencies_data.append({\"Symbol\" : Symbol, \"Name\" : Name, \"Last_price\" : Last_price, \"Change\" : Change, \"% Change\" : Percentage_Change} , ignore_index = True)\n",
      "C:\\Users\\My Computer\\AppData\\Local\\Temp\\ipykernel_1904\\1048989570.py:13: FutureWarning: The frame.append method is deprecated and will be removed from pandas in a future version. Use pandas.concat instead.\n",
      "  currencies_data = currencies_data.append({\"Symbol\" : Symbol, \"Name\" : Name, \"Last_price\" : Last_price, \"Change\" : Change, \"% Change\" : Percentage_Change} , ignore_index = True)\n",
      "C:\\Users\\My Computer\\AppData\\Local\\Temp\\ipykernel_1904\\1048989570.py:13: FutureWarning: The frame.append method is deprecated and will be removed from pandas in a future version. Use pandas.concat instead.\n",
      "  currencies_data = currencies_data.append({\"Symbol\" : Symbol, \"Name\" : Name, \"Last_price\" : Last_price, \"Change\" : Change, \"% Change\" : Percentage_Change} , ignore_index = True)\n",
      "C:\\Users\\My Computer\\AppData\\Local\\Temp\\ipykernel_1904\\1048989570.py:13: FutureWarning: The frame.append method is deprecated and will be removed from pandas in a future version. Use pandas.concat instead.\n",
      "  currencies_data = currencies_data.append({\"Symbol\" : Symbol, \"Name\" : Name, \"Last_price\" : Last_price, \"Change\" : Change, \"% Change\" : Percentage_Change} , ignore_index = True)\n",
      "C:\\Users\\My Computer\\AppData\\Local\\Temp\\ipykernel_1904\\1048989570.py:13: FutureWarning: The frame.append method is deprecated and will be removed from pandas in a future version. Use pandas.concat instead.\n",
      "  currencies_data = currencies_data.append({\"Symbol\" : Symbol, \"Name\" : Name, \"Last_price\" : Last_price, \"Change\" : Change, \"% Change\" : Percentage_Change} , ignore_index = True)\n",
      "C:\\Users\\My Computer\\AppData\\Local\\Temp\\ipykernel_1904\\1048989570.py:13: FutureWarning: The frame.append method is deprecated and will be removed from pandas in a future version. Use pandas.concat instead.\n",
      "  currencies_data = currencies_data.append({\"Symbol\" : Symbol, \"Name\" : Name, \"Last_price\" : Last_price, \"Change\" : Change, \"% Change\" : Percentage_Change} , ignore_index = True)\n",
      "C:\\Users\\My Computer\\AppData\\Local\\Temp\\ipykernel_1904\\1048989570.py:13: FutureWarning: The frame.append method is deprecated and will be removed from pandas in a future version. Use pandas.concat instead.\n",
      "  currencies_data = currencies_data.append({\"Symbol\" : Symbol, \"Name\" : Name, \"Last_price\" : Last_price, \"Change\" : Change, \"% Change\" : Percentage_Change} , ignore_index = True)\n",
      "C:\\Users\\My Computer\\AppData\\Local\\Temp\\ipykernel_1904\\1048989570.py:13: FutureWarning: The frame.append method is deprecated and will be removed from pandas in a future version. Use pandas.concat instead.\n",
      "  currencies_data = currencies_data.append({\"Symbol\" : Symbol, \"Name\" : Name, \"Last_price\" : Last_price, \"Change\" : Change, \"% Change\" : Percentage_Change} , ignore_index = True)\n",
      "C:\\Users\\My Computer\\AppData\\Local\\Temp\\ipykernel_1904\\1048989570.py:13: FutureWarning: The frame.append method is deprecated and will be removed from pandas in a future version. Use pandas.concat instead.\n",
      "  currencies_data = currencies_data.append({\"Symbol\" : Symbol, \"Name\" : Name, \"Last_price\" : Last_price, \"Change\" : Change, \"% Change\" : Percentage_Change} , ignore_index = True)\n",
      "C:\\Users\\My Computer\\AppData\\Local\\Temp\\ipykernel_1904\\1048989570.py:13: FutureWarning: The frame.append method is deprecated and will be removed from pandas in a future version. Use pandas.concat instead.\n",
      "  currencies_data = currencies_data.append({\"Symbol\" : Symbol, \"Name\" : Name, \"Last_price\" : Last_price, \"Change\" : Change, \"% Change\" : Percentage_Change} , ignore_index = True)\n",
      "C:\\Users\\My Computer\\AppData\\Local\\Temp\\ipykernel_1904\\1048989570.py:13: FutureWarning: The frame.append method is deprecated and will be removed from pandas in a future version. Use pandas.concat instead.\n",
      "  currencies_data = currencies_data.append({\"Symbol\" : Symbol, \"Name\" : Name, \"Last_price\" : Last_price, \"Change\" : Change, \"% Change\" : Percentage_Change} , ignore_index = True)\n",
      "C:\\Users\\My Computer\\AppData\\Local\\Temp\\ipykernel_1904\\1048989570.py:13: FutureWarning: The frame.append method is deprecated and will be removed from pandas in a future version. Use pandas.concat instead.\n",
      "  currencies_data = currencies_data.append({\"Symbol\" : Symbol, \"Name\" : Name, \"Last_price\" : Last_price, \"Change\" : Change, \"% Change\" : Percentage_Change} , ignore_index = True)\n",
      "C:\\Users\\My Computer\\AppData\\Local\\Temp\\ipykernel_1904\\1048989570.py:13: FutureWarning: The frame.append method is deprecated and will be removed from pandas in a future version. Use pandas.concat instead.\n",
      "  currencies_data = currencies_data.append({\"Symbol\" : Symbol, \"Name\" : Name, \"Last_price\" : Last_price, \"Change\" : Change, \"% Change\" : Percentage_Change} , ignore_index = True)\n",
      "C:\\Users\\My Computer\\AppData\\Local\\Temp\\ipykernel_1904\\1048989570.py:13: FutureWarning: The frame.append method is deprecated and will be removed from pandas in a future version. Use pandas.concat instead.\n",
      "  currencies_data = currencies_data.append({\"Symbol\" : Symbol, \"Name\" : Name, \"Last_price\" : Last_price, \"Change\" : Change, \"% Change\" : Percentage_Change} , ignore_index = True)\n",
      "C:\\Users\\My Computer\\AppData\\Local\\Temp\\ipykernel_1904\\1048989570.py:13: FutureWarning: The frame.append method is deprecated and will be removed from pandas in a future version. Use pandas.concat instead.\n",
      "  currencies_data = currencies_data.append({\"Symbol\" : Symbol, \"Name\" : Name, \"Last_price\" : Last_price, \"Change\" : Change, \"% Change\" : Percentage_Change} , ignore_index = True)\n",
      "C:\\Users\\My Computer\\AppData\\Local\\Temp\\ipykernel_1904\\1048989570.py:13: FutureWarning: The frame.append method is deprecated and will be removed from pandas in a future version. Use pandas.concat instead.\n",
      "  currencies_data = currencies_data.append({\"Symbol\" : Symbol, \"Name\" : Name, \"Last_price\" : Last_price, \"Change\" : Change, \"% Change\" : Percentage_Change} , ignore_index = True)\n",
      "C:\\Users\\My Computer\\AppData\\Local\\Temp\\ipykernel_1904\\1048989570.py:13: FutureWarning: The frame.append method is deprecated and will be removed from pandas in a future version. Use pandas.concat instead.\n",
      "  currencies_data = currencies_data.append({\"Symbol\" : Symbol, \"Name\" : Name, \"Last_price\" : Last_price, \"Change\" : Change, \"% Change\" : Percentage_Change} , ignore_index = True)\n"
     ]
    }
   ],
   "source": [
    "#Turning the html table to Pandas DataFrame\n",
    "currencies_data = pd.DataFrame(columns = [\"Symbol\", \"Name\", \"Last_price\", \"Change\", \"% Change\"])\n",
    "\n",
    "# First we isolate the body that contains all the information\n",
    "for row in soup.find(\"tbody\").find_all('tr'):\n",
    "    col = row.find_all(\"td\")\n",
    "    Symbol = col[0].text\n",
    "    Name = col[1].text\n",
    "    Last_price = col[2].text\n",
    "    Change = col[3].text\n",
    "    Percentage_Change = col[4].text\n",
    "#Finally we append the data of each row to the table\n",
    "    currencies_data = currencies_data.append({\"Symbol\" : Symbol, \"Name\" : Name, \"Last_price\" : Last_price, \"Change\" : Change, \"% Change\" : Percentage_Change} , ignore_index = True)"
   ],
   "metadata": {
    "collapsed": false,
    "pycharm": {
     "name": "#%%\n"
    }
   }
  },
  {
   "cell_type": "code",
   "execution_count": 8,
   "outputs": [
    {
     "data": {
      "text/plain": "     Symbol     Name Last_price   Change % Change\n0  EURUSD=X  EUR/USD     0.9768  -0.0070   -0.71%\n1     JPY=X  USD/JPY   142.4000  +0.0650   +0.05%\n2  GBPUSD=X  GBP/USD     1.1170  -0.0084   -0.75%\n3  AUDUSD=X  AUD/USD     0.6595  -0.0050   -0.75%\n4  NZDUSD=X  NZD/USD     0.5812  -0.0034   -0.58%",
      "text/html": "<div>\n<style scoped>\n    .dataframe tbody tr th:only-of-type {\n        vertical-align: middle;\n    }\n\n    .dataframe tbody tr th {\n        vertical-align: top;\n    }\n\n    .dataframe thead th {\n        text-align: right;\n    }\n</style>\n<table border=\"1\" class=\"dataframe\">\n  <thead>\n    <tr style=\"text-align: right;\">\n      <th></th>\n      <th>Symbol</th>\n      <th>Name</th>\n      <th>Last_price</th>\n      <th>Change</th>\n      <th>% Change</th>\n    </tr>\n  </thead>\n  <tbody>\n    <tr>\n      <th>0</th>\n      <td>EURUSD=X</td>\n      <td>EUR/USD</td>\n      <td>0.9768</td>\n      <td>-0.0070</td>\n      <td>-0.71%</td>\n    </tr>\n    <tr>\n      <th>1</th>\n      <td>JPY=X</td>\n      <td>USD/JPY</td>\n      <td>142.4000</td>\n      <td>+0.0650</td>\n      <td>+0.05%</td>\n    </tr>\n    <tr>\n      <th>2</th>\n      <td>GBPUSD=X</td>\n      <td>GBP/USD</td>\n      <td>1.1170</td>\n      <td>-0.0084</td>\n      <td>-0.75%</td>\n    </tr>\n    <tr>\n      <th>3</th>\n      <td>AUDUSD=X</td>\n      <td>AUD/USD</td>\n      <td>0.6595</td>\n      <td>-0.0050</td>\n      <td>-0.75%</td>\n    </tr>\n    <tr>\n      <th>4</th>\n      <td>NZDUSD=X</td>\n      <td>NZD/USD</td>\n      <td>0.5812</td>\n      <td>-0.0034</td>\n      <td>-0.58%</td>\n    </tr>\n  </tbody>\n</table>\n</div>"
     },
     "execution_count": 8,
     "metadata": {},
     "output_type": "execute_result"
    }
   ],
   "source": [
    "#Printing the first five rows of the DataFrame\n",
    "currencies_data.head()"
   ],
   "metadata": {
    "collapsed": false,
    "pycharm": {
     "name": "#%%\n"
    }
   }
  },
  {
   "cell_type": "code",
   "execution_count": 9,
   "outputs": [
    {
     "name": "stdout",
     "output_type": "stream",
     "text": [
      "      Symbol     Name   Last_price   Change % Change\n",
      "0   EURUSD=X  EUR/USD       0.9768  -0.0070   -0.71%\n",
      "1      JPY=X  USD/JPY     142.4000  +0.0650   +0.05%\n",
      "2   GBPUSD=X  GBP/USD       1.1170  -0.0084   -0.75%\n",
      "3   AUDUSD=X  AUD/USD       0.6595  -0.0050   -0.75%\n",
      "4   NZDUSD=X  NZD/USD       0.5812  -0.0034   -0.58%\n",
      "5   EURJPY=X  EUR/JPY     139.0560  -0.9410   -0.67%\n",
      "6   GBPJPY=X  GBP/JPY     159.0650  -1.1080   -0.69%\n",
      "7   EURGBP=X  EUR/GBP       0.8742  +0.0003   +0.03%\n",
      "8   EURCAD=X  EUR/CAD       1.3207  -0.0056   -0.42%\n",
      "9   EURSEK=X  EUR/SEK      10.8908  +0.0002   +0.00%\n",
      "10  EURCHF=X  EUR/CHF       0.9567  -0.0042   -0.44%\n",
      "11  EURHUF=X  EUR/HUF     405.7150  +0.6750   +0.17%\n",
      "12  EURJPY=X  EUR/JPY     139.0560  -0.9410   -0.67%\n",
      "13     CNY=X  USD/CNY       7.1076  +0.0296   +0.42%\n",
      "14     HKD=X  USD/HKD       7.8495  +0.0012   +0.01%\n",
      "15     SGD=X  USD/SGD       1.4222  +0.0042   +0.30%\n",
      "16     INR=X  USD/INR      80.9600  -0.0800   -0.10%\n",
      "17     MXN=X  USD/MXN      20.0135  +0.0988   +0.50%\n",
      "18     PHP=X  USD/PHP      58.4230  +0.0030   +0.01%\n",
      "19     IDR=X  USD/IDR  15,035.0000  +5.0000   +0.03%\n",
      "20     THB=X  USD/THB      37.3800  +0.0200   +0.05%\n",
      "21     MYR=X  USD/MYR       4.5770  +0.0120   +0.26%\n",
      "22     ZAR=X  USD/ZAR      17.7450  +0.1544   +0.88%\n",
      "23     RUB=X  USD/RUB      58.8123  -1.0815   -1.81%\n"
     ]
    }
   ],
   "source": [
    "#Printing out the whole data frame\n",
    "with pd.option_context('display.max_rows', None, 'display.max_columns', None) :\n",
    "    print(currencies_data)"
   ],
   "metadata": {
    "collapsed": false,
    "pycharm": {
     "name": "#%%\n"
    }
   }
  },
  {
   "cell_type": "code",
   "execution_count": null,
   "outputs": [],
   "source": [],
   "metadata": {
    "collapsed": false,
    "pycharm": {
     "name": "#%%\n"
    }
   }
  }
 ],
 "metadata": {
  "kernelspec": {
   "display_name": "Python 3",
   "language": "python",
   "name": "python3"
  },
  "language_info": {
   "codemirror_mode": {
    "name": "ipython",
    "version": 2
   },
   "file_extension": ".py",
   "mimetype": "text/x-python",
   "name": "python",
   "nbconvert_exporter": "python",
   "pygments_lexer": "ipython2",
   "version": "2.7.6"
  }
 },
 "nbformat": 4,
 "nbformat_minor": 0
}